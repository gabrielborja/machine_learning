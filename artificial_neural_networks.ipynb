{
  "nbformat": 4,
  "nbformat_minor": 0,
  "metadata": {
    "colab": {
      "provenance": [],
      "authorship_tag": "ABX9TyNPoPOdUa98K/adxEIl85/z",
      "include_colab_link": true
    },
    "kernelspec": {
      "name": "python3",
      "display_name": "Python 3"
    },
    "language_info": {
      "name": "python"
    }
  },
  "cells": [
    {
      "cell_type": "markdown",
      "metadata": {
        "id": "view-in-github",
        "colab_type": "text"
      },
      "source": [
        "<a href=\"https://colab.research.google.com/github/gabrielborja/machine_learning/blob/main/artificial_neural_networks.ipynb\" target=\"_parent\"><img src=\"https://colab.research.google.com/assets/colab-badge.svg\" alt=\"Open In Colab\"/></a>"
      ]
    },
    {
      "cell_type": "markdown",
      "source": [
        "#Artificial Neural Network for Regression"
      ],
      "metadata": {
        "id": "95PPqDIdGRYG"
      }
    },
    {
      "cell_type": "markdown",
      "source": [
        "## Importing the libraries"
      ],
      "metadata": {
        "id": "Dp-UY0HSGakz"
      }
    },
    {
      "cell_type": "code",
      "execution_count": null,
      "metadata": {
        "id": "tSdV6xImDmsM"
      },
      "outputs": [],
      "source": [
        "import numpy as np\n",
        "import pandas as pd\n",
        "import tensorflow as tf"
      ]
    },
    {
      "cell_type": "code",
      "source": [
        "tf.__version__"
      ],
      "metadata": {
        "id": "-N066BAiGsBt"
      },
      "execution_count": null,
      "outputs": []
    },
    {
      "cell_type": "markdown",
      "source": [
        "## 01 Data Preprocessing Regression"
      ],
      "metadata": {
        "id": "jcMXVFWjGnS7"
      }
    },
    {
      "cell_type": "code",
      "source": [
        "# Loading data from local drive\n",
        "from google.colab import files\n",
        "uploaded_1 = files.upload()"
      ],
      "metadata": {
        "id": "VAGo7MEnGmdf"
      },
      "execution_count": null,
      "outputs": []
    },
    {
      "cell_type": "code",
      "source": [
        "# Storing loaded data to a pandas dataframe\n",
        "import io\n",
        "df1 = pd.read_excel(io.BytesIO(uploaded_1['Folds5x2_pp.xlsx']), sheet_name='Sheet1')"
      ],
      "metadata": {
        "id": "z6luF_WOG_r4"
      },
      "execution_count": null,
      "outputs": []
    },
    {
      "cell_type": "code",
      "source": [
        "# Checking the dataframe\n",
        "df1.tail()"
      ],
      "metadata": {
        "id": "HQire3EuP5gO"
      },
      "execution_count": null,
      "outputs": []
    },
    {
      "cell_type": "code",
      "source": [
        "# Creating the matrix of features and the dependent variable vector\n",
        "X = df1.iloc[:,:-1].values\n",
        "y = df1.iloc[:,-1:].values"
      ],
      "metadata": {
        "id": "plI6nLOUPed0"
      },
      "execution_count": null,
      "outputs": []
    },
    {
      "cell_type": "code",
      "source": [
        "# Splitting the dataset into the training and test set\n",
        "from sklearn.model_selection import train_test_split\n",
        "X_train, X_test, y_train, y_test = train_test_split(X, y, train_size=0.8, test_size=0.2, random_state=0, shuffle=True)"
      ],
      "metadata": {
        "id": "ZfJRVn-lR7Pk"
      },
      "execution_count": null,
      "outputs": []
    },
    {
      "cell_type": "markdown",
      "source": [
        "## 02 Building the ANN for regression"
      ],
      "metadata": {
        "id": "trH0KJ62VG-Q"
      }
    },
    {
      "cell_type": "code",
      "source": [
        "# Initializing the ANN for regression\n",
        "ann_r = tf.keras.models.Sequential()"
      ],
      "metadata": {
        "id": "MTP_-Mk7Vdvk"
      },
      "execution_count": null,
      "outputs": []
    },
    {
      "cell_type": "code",
      "source": [
        "# Adding the input layer and the first hidden layer\n",
        "ann_r.add(tf.keras.layers.Dense(units=6, activation='relu'))"
      ],
      "metadata": {
        "id": "B7Q8PD5ocuzF"
      },
      "execution_count": null,
      "outputs": []
    },
    {
      "cell_type": "code",
      "source": [
        "# Adding the second hidden layer\n",
        "ann_r.add(tf.keras.layers.Dense(units=6, activation='relu'))"
      ],
      "metadata": {
        "id": "FKf-a5RNdxi6"
      },
      "execution_count": null,
      "outputs": []
    },
    {
      "cell_type": "code",
      "source": [
        "# Adding the output layer -- {Regression:'None', Classification_2:'Sigmoid', Multi_class_Classification:'Softmax'}\n",
        "ann_r.add(tf.keras.layers.Dense(units=1, activation=None))"
      ],
      "metadata": {
        "id": "FQiyM2AyeB1k"
      },
      "execution_count": null,
      "outputs": []
    },
    {
      "cell_type": "markdown",
      "source": [
        "## 03 Training the ANN for regression"
      ],
      "metadata": {
        "id": "TPz-Cv2yhTf2"
      }
    },
    {
      "cell_type": "code",
      "source": [
        "# Compiling the ANN\n",
        "ann_r.compile(optimizer='adam', loss='mean_squared_error')"
      ],
      "metadata": {
        "id": "FqhpG5l7hrYW"
      },
      "execution_count": null,
      "outputs": []
    },
    {
      "cell_type": "code",
      "source": [
        "# Training the ANN model for regression in the Training set\n",
        "ann_r.fit(X_train, y_train, batch_size=32, epochs=100)"
      ],
      "metadata": {
        "id": "S6kMwgmwiD45"
      },
      "execution_count": null,
      "outputs": []
    },
    {
      "cell_type": "code",
      "source": [
        "# Predicting the results of the test set\n",
        "y_pred_1 = ann_r.predict(X_test)\n",
        "np.set_printoptions(precision=2)\n",
        "print('Predicted vs. Real Value')\n",
        "print(np.concatenate((y_pred_1.reshape(len(y_pred_1),1), y_test.reshape(len(y_test),1)), axis=1))"
      ],
      "metadata": {
        "id": "Eq2nmQoCj23l"
      },
      "execution_count": null,
      "outputs": []
    },
    {
      "cell_type": "code",
      "source": [
        "score = ann_r.evaluate(X_test, X_test, verbose=0)"
      ],
      "metadata": {
        "id": "iHOq8npQnDde"
      },
      "execution_count": null,
      "outputs": []
    }
  ]
}