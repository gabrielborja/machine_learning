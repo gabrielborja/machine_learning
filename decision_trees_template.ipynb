{
  "nbformat": 4,
  "nbformat_minor": 0,
  "metadata": {
    "colab": {
      "provenance": [],
      "authorship_tag": "ABX9TyMInrwyiWRE1ktCTWhMWbmW",
      "include_colab_link": true
    },
    "kernelspec": {
      "name": "python3",
      "display_name": "Python 3"
    },
    "language_info": {
      "name": "python"
    }
  },
  "cells": [
    {
      "cell_type": "markdown",
      "metadata": {
        "id": "view-in-github",
        "colab_type": "text"
      },
      "source": [
        "<a href=\"https://colab.research.google.com/github/gabrielborja/machine_learning/blob/main/decision_trees_template.ipynb\" target=\"_parent\"><img src=\"https://colab.research.google.com/assets/colab-badge.svg\" alt=\"Open In Colab\"/></a>"
      ]
    },
    {
      "cell_type": "markdown",
      "source": [
        "#Decision Trees for Classification"
      ],
      "metadata": {
        "id": "95PPqDIdGRYG"
      }
    },
    {
      "cell_type": "markdown",
      "source": [
        "## Importing the libraries"
      ],
      "metadata": {
        "id": "Dp-UY0HSGakz"
      }
    },
    {
      "cell_type": "code",
      "execution_count": null,
      "metadata": {
        "id": "tSdV6xImDmsM"
      },
      "outputs": [],
      "source": [
        "import numpy as np\n",
        "import pandas as pd\n",
        "import tensorflow as tf"
      ]
    },
    {
      "cell_type": "markdown",
      "source": [
        "## 01 Data Preprocessing Classification"
      ],
      "metadata": {
        "id": "jcMXVFWjGnS7"
      }
    },
    {
      "cell_type": "code",
      "source": [
        "# Loading first dataset from local drive\n",
        "from google.colab import files\n",
        "uploaded_1 = files.upload()"
      ],
      "metadata": {
        "id": "VAGo7MEnGmdf"
      },
      "execution_count": null,
      "outputs": []
    },
    {
      "cell_type": "code",
      "source": [
        "# Loading second dataset from local drive\n",
        "from google.colab import files\n",
        "uploaded_2 = files.upload()"
      ],
      "metadata": {
        "id": "4PZPHBoKoUKW"
      },
      "execution_count": null,
      "outputs": []
    },
    {
      "cell_type": "code",
      "source": [
        "# Storing dataset 1 to a pandas dataframe\n",
        "import io\n",
        "df1 = pd.read_excel(io.BytesIO(uploaded_1['0731_chu.xlsx']), sheet_name='Sheet1')"
      ],
      "metadata": {
        "id": "z6luF_WOG_r4"
      },
      "execution_count": null,
      "outputs": []
    },
    {
      "cell_type": "code",
      "source": [
        "# Storing dataset 2 to a pandas dataframe\n",
        "import io\n",
        "df2 = pd.read_csv(io.BytesIO(uploaded_2['0731_sto.csv']), sep=',')"
      ],
      "metadata": {
        "id": "1Iq23qFZoh63"
      },
      "execution_count": null,
      "outputs": []
    },
    {
      "cell_type": "code",
      "source": [
        "# Modifying columns to lower case for both datasets\n",
        "df1.rename(columns={i:i.lower() for i in df1.columns}, inplace=True)\n",
        "df2.rename(columns={i:i.lower() for i in df2.columns}, inplace=True)"
      ],
      "metadata": {
        "id": "QtaurtfnpzcZ"
      },
      "execution_count": null,
      "outputs": []
    },
    {
      "cell_type": "code",
      "source": [
        "# Dropping unneccesary columns from both datasets\n",
        "df1.drop(columns=['company_churn'], axis=1, inplace=True)\n",
        "df2.drop(columns=['company_churn'], axis=1, inplace=True)"
      ],
      "metadata": {
        "id": "Hq5tcbbrpfK5"
      },
      "execution_count": null,
      "outputs": []
    },
    {
      "cell_type": "code",
      "source": [
        "# Sampling dataset 2 to balance both classes\n",
        "bl_size = int((df1.shape[0])*1.30)\n",
        "#bl_size\n",
        "df3 = df2.sample(n=bl_size, axis=0, replace=False, random_state=0)"
      ],
      "metadata": {
        "id": "RtJfwx_MrNJb"
      },
      "execution_count": null,
      "outputs": []
    },
    {
      "cell_type": "code",
      "source": [
        "# Stacking both dataframes containg both classes\n",
        "df_cl = pd.concat([df1, df3], ignore_index=True)"
      ],
      "metadata": {
        "id": "o9bkeSdNuqVr"
      },
      "execution_count": null,
      "outputs": []
    },
    {
      "cell_type": "code",
      "source": [
        "# Checking the dataframe\n",
        "df_cl.tail()"
      ],
      "metadata": {
        "id": "HQire3EuP5gO"
      },
      "execution_count": null,
      "outputs": []
    },
    {
      "cell_type": "code",
      "source": [
        "# Checking the dataframe info\n",
        "df_cl.info()"
      ],
      "metadata": {
        "id": "ytl5IiEjpZ7p"
      },
      "execution_count": null,
      "outputs": []
    },
    {
      "cell_type": "code",
      "source": [
        "# Creating the matrix of features and the dependent variable vector\n",
        "X = df1.iloc[:,:-1].values\n",
        "y = df1.iloc[:,-1:].values"
      ],
      "metadata": {
        "id": "plI6nLOUPed0"
      },
      "execution_count": null,
      "outputs": []
    },
    {
      "cell_type": "code",
      "source": [
        "# Splitting the dataset into the training and test set\n",
        "from sklearn.model_selection import train_test_split\n",
        "X_train, X_test, y_train, y_test = train_test_split(X, y, train_size=0.8, test_size=0.2, random_state=0, shuffle=True)"
      ],
      "metadata": {
        "id": "ZfJRVn-lR7Pk"
      },
      "execution_count": null,
      "outputs": []
    },
    {
      "cell_type": "markdown",
      "source": [
        "## 02 Building the Decision Tree for Classification"
      ],
      "metadata": {
        "id": "trH0KJ62VG-Q"
      }
    }
  ]
}