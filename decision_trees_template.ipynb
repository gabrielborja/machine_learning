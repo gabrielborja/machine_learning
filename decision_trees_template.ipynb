{
  "nbformat": 4,
  "nbformat_minor": 0,
  "metadata": {
    "colab": {
      "provenance": [],
      "authorship_tag": "ABX9TyM6U/ucSBScEUNKQ2jpq14U",
      "include_colab_link": true
    },
    "kernelspec": {
      "name": "python3",
      "display_name": "Python 3"
    },
    "language_info": {
      "name": "python"
    }
  },
  "cells": [
    {
      "cell_type": "markdown",
      "metadata": {
        "id": "view-in-github",
        "colab_type": "text"
      },
      "source": [
        "<a href=\"https://colab.research.google.com/github/gabrielborja/machine_learning/blob/main/decision_trees_template.ipynb\" target=\"_parent\"><img src=\"https://colab.research.google.com/assets/colab-badge.svg\" alt=\"Open In Colab\"/></a>"
      ]
    },
    {
      "cell_type": "markdown",
      "source": [
        "#Decision Trees for Classification"
      ],
      "metadata": {
        "id": "95PPqDIdGRYG"
      }
    },
    {
      "cell_type": "markdown",
      "source": [
        "## Importing the libraries"
      ],
      "metadata": {
        "id": "Dp-UY0HSGakz"
      }
    },
    {
      "cell_type": "code",
      "execution_count": null,
      "metadata": {
        "id": "tSdV6xImDmsM"
      },
      "outputs": [],
      "source": [
        "import numpy as np\n",
        "import pandas as pd\n",
        "import matplotlib.pyplot as plt\n",
        "import sklearn"
      ]
    },
    {
      "cell_type": "markdown",
      "source": [
        "## 01 Data Preprocessing Classification"
      ],
      "metadata": {
        "id": "jcMXVFWjGnS7"
      }
    },
    {
      "cell_type": "code",
      "source": [
        "# Loading first dataset from local drive\n",
        "from google.colab import files\n",
        "uploaded_1 = files.upload()"
      ],
      "metadata": {
        "id": "VAGo7MEnGmdf"
      },
      "execution_count": null,
      "outputs": []
    },
    {
      "cell_type": "code",
      "source": [
        "# Loading second dataset from local drive\n",
        "from google.colab import files\n",
        "uploaded_2 = files.upload()"
      ],
      "metadata": {
        "id": "4PZPHBoKoUKW"
      },
      "execution_count": null,
      "outputs": []
    },
    {
      "cell_type": "code",
      "source": [
        "# Storing dataset 1 to a pandas dataframe\n",
        "import io\n",
        "df1 = pd.read_excel(io.BytesIO(uploaded_1['0731_chu.xlsx']), sheet_name='Sheet1')"
      ],
      "metadata": {
        "id": "z6luF_WOG_r4"
      },
      "execution_count": null,
      "outputs": []
    },
    {
      "cell_type": "code",
      "source": [
        "# Storing dataset 2 to a pandas dataframe\n",
        "import io\n",
        "df2 = pd.read_csv(io.BytesIO(uploaded_2['0731_sto.csv']), sep=',')"
      ],
      "metadata": {
        "id": "1Iq23qFZoh63"
      },
      "execution_count": null,
      "outputs": []
    },
    {
      "cell_type": "code",
      "source": [
        "# Modifying columns to lower case for both datasets\n",
        "df1.rename(columns={i:i.lower() for i in df1.columns}, inplace=True)\n",
        "df2.rename(columns={i:i.lower() for i in df2.columns}, inplace=True)"
      ],
      "metadata": {
        "id": "QtaurtfnpzcZ"
      },
      "execution_count": null,
      "outputs": []
    },
    {
      "cell_type": "code",
      "source": [
        "# Dropping unneccesary columns from both datasets\n",
        "df1.drop(columns=['company_churn'], axis=1, inplace=True)\n",
        "df2.drop(columns=['company_churn'], axis=1, inplace=True)"
      ],
      "metadata": {
        "id": "Hq5tcbbrpfK5"
      },
      "execution_count": null,
      "outputs": []
    },
    {
      "cell_type": "code",
      "source": [
        "# Sampling dataset 2 to balance both classes\n",
        "bl_size = int((df1.shape[0])*1.10)\n",
        "#bl_size\n",
        "df3 = df2.sample(n=bl_size, axis=0, replace=False, random_state=0)"
      ],
      "metadata": {
        "id": "RtJfwx_MrNJb"
      },
      "execution_count": null,
      "outputs": []
    },
    {
      "cell_type": "code",
      "source": [
        "# Stacking both dataframes containg both classes\n",
        "df_cl = pd.concat([df1, df3], ignore_index=True)"
      ],
      "metadata": {
        "id": "o9bkeSdNuqVr"
      },
      "execution_count": null,
      "outputs": []
    },
    {
      "cell_type": "code",
      "source": [
        "# Checking the dataframe\n",
        "df_cl.tail()"
      ],
      "metadata": {
        "id": "HQire3EuP5gO"
      },
      "execution_count": null,
      "outputs": []
    },
    {
      "cell_type": "code",
      "source": [
        "# Dropping dependent / unnecesary variables\n",
        "df_cl.drop(columns=[i for i in df_cl.columns if i[:3] == 'out'], inplace=True)"
      ],
      "metadata": {
        "id": "uQg1B_WFV2Xg"
      },
      "execution_count": null,
      "outputs": []
    },
    {
      "cell_type": "code",
      "source": [
        "df_cl.drop(columns=[i for i in df_cl.columns if i[:7] == 'in_from'], inplace=True)"
      ],
      "metadata": {
        "id": "lWtAMS1FrAEj"
      },
      "execution_count": null,
      "outputs": []
    },
    {
      "cell_type": "code",
      "source": [
        "# Checking the dataframe info\n",
        "df_cl.info()"
      ],
      "metadata": {
        "id": "ytl5IiEjpZ7p"
      },
      "execution_count": null,
      "outputs": []
    },
    {
      "cell_type": "code",
      "source": [
        "df1 = df1.assign(early_churn = np.where(df1['lifetime_days'] < 121, 1, 0))"
      ],
      "metadata": {
        "id": "G0cDDSAKyZet"
      },
      "execution_count": null,
      "outputs": []
    },
    {
      "cell_type": "code",
      "source": [
        "df1['out_as_termination'].value_counts(normalize=True)"
      ],
      "metadata": {
        "id": "iedsrmJ7zM7x"
      },
      "execution_count": null,
      "outputs": []
    },
    {
      "cell_type": "code",
      "source": [
        "df1.drop(columns=['lifetime_days'], inplace=True)"
      ],
      "metadata": {
        "id": "1FbvcaKazj5x"
      },
      "execution_count": null,
      "outputs": []
    },
    {
      "cell_type": "code",
      "source": [
        "df1.info()"
      ],
      "metadata": {
        "id": "whQFSjGBzrpV"
      },
      "execution_count": null,
      "outputs": []
    },
    {
      "cell_type": "code",
      "source": [
        "df_cl = df1.copy()"
      ],
      "metadata": {
        "id": "nzfmxy7Uz7w-"
      },
      "execution_count": null,
      "outputs": []
    },
    {
      "cell_type": "code",
      "source": [
        "# Checking balance between class 0 vs. class 1\n",
        "df_cl['dealer_smartkom_oslo'].value_counts()"
      ],
      "metadata": {
        "id": "-6Z5CRclmK3o"
      },
      "execution_count": null,
      "outputs": []
    },
    {
      "cell_type": "code",
      "source": [
        "# Exporting main excel file\n",
        "with pd.ExcelWriter('df_cl.xlsx', engine='openpyxl') as writer:\n",
        "  df_cl.to_excel(writer, sheet_name='Sheet1', index=False)\n",
        "files.download('df_cl.xlsx')"
      ],
      "metadata": {
        "id": "Z0G8WfFdlrCI"
      },
      "execution_count": null,
      "outputs": []
    },
    {
      "cell_type": "code",
      "source": [
        "# Creating the matrix of features and the dependent variable vector\n",
        "X = df_cl.iloc[:,:-1].values\n",
        "y = df_cl.iloc[:,-1:].values\n",
        "print(f'[X: {X.shape}], [y:{y.shape}]')"
      ],
      "metadata": {
        "id": "plI6nLOUPed0"
      },
      "execution_count": null,
      "outputs": []
    },
    {
      "cell_type": "code",
      "source": [
        "# Splitting the data into the training set and test set\n",
        "from sklearn.model_selection import train_test_split\n",
        "X_train, X_test, y_train, y_test = train_test_split(X, y, test_size=0.2, train_size=0.8, random_state=0, shuffle=True)"
      ],
      "metadata": {
        "id": "ZfJRVn-lR7Pk"
      },
      "execution_count": null,
      "outputs": []
    },
    {
      "cell_type": "code",
      "source": [
        "# Checking shuffling after split\n",
        "pd.DataFrame(y_test).value_counts(normalize=True)"
      ],
      "metadata": {
        "id": "-Yb1P01WnrhE"
      },
      "execution_count": null,
      "outputs": []
    },
    {
      "cell_type": "markdown",
      "source": [
        "## 02 Building the Decision Tree for Classification"
      ],
      "metadata": {
        "id": "trH0KJ62VG-Q"
      }
    },
    {
      "cell_type": "code",
      "source": [
        "# Importing Decision Tree Classifier\n",
        "from sklearn.tree import DecisionTreeClassifier\n",
        "tree_cs = DecisionTreeClassifier(criterion='entropy', max_depth=4, max_leaf_nodes=10, random_state=0) #\n",
        "tree_cs.fit(X_train, y_train)"
      ],
      "metadata": {
        "id": "5SI_nkvZrszI"
      },
      "execution_count": null,
      "outputs": []
    },
    {
      "cell_type": "code",
      "source": [
        "# Evaluating accuracy of the DT Classifier\n",
        "print(f'Accuracy on training set: {tree_cs.score(X_train, y_train)}')\n",
        "print(f'Accuracy on test set    : {tree_cs.score(X_test, y_test)}')"
      ],
      "metadata": {
        "id": "Y7nf5hqPRrH8"
      },
      "execution_count": null,
      "outputs": []
    },
    {
      "cell_type": "code",
      "source": [
        "# Checking the DT Classifier classes\n",
        "tree_cs.classes_"
      ],
      "metadata": {
        "id": "95A8QqeDSqyK"
      },
      "execution_count": null,
      "outputs": []
    },
    {
      "cell_type": "code",
      "source": [
        "# Importing Export graph packages\n",
        "from sklearn.tree import export_graphviz\n",
        "import graphviz\n",
        "import pydotplus"
      ],
      "metadata": {
        "id": "TMS9RlMoTsS7"
      },
      "execution_count": null,
      "outputs": []
    },
    {
      "cell_type": "code",
      "source": [
        "# Visualizing the DT Classifier\n",
        "export_graphviz(tree_cs, out_file='tree_cs.dot', class_names=['Late Churn','Early Churn'], feature_names=df_cl.columns[:-1], impurity=False, filled=True)\n",
        "with open('tree_cs.dot') as f:\n",
        "  dot_graph = f.read()\n",
        "pydot_graph = pydotplus.graph_from_dot_data(dot_graph)\n",
        "#pydot_graph.set_size('\"5.5!\"')\n",
        "pydot_graph.write_png('resized_tree.png')\n",
        "display(graphviz.Source(dot_graph))"
      ],
      "metadata": {
        "id": "AWUVT_afST7b"
      },
      "execution_count": null,
      "outputs": []
    },
    {
      "cell_type": "code",
      "source": [
        "# Creating a function to plot the feature importance of DT Classifier\n",
        "def plot_feature_importances_tree_class(df, model):\n",
        "  n_features = df.shape[1] - 1\n",
        "  #return n_features\n",
        "  plt.barh(range(n_features), model.feature_importances_, align='center')\n",
        "  plt.yticks(np.arange(n_features), df.columns[:-1])\n",
        "  plt.xlabel(\"DT Classifier - Feature importance\")\n",
        "  plt.ylabel(\"Feature\")\n",
        "  plt.ylim(-1, n_features)\n",
        "  plt.show()"
      ],
      "metadata": {
        "id": "e3c-kuY7dEe-"
      },
      "execution_count": null,
      "outputs": []
    },
    {
      "cell_type": "code",
      "source": [
        "# Visualizing the feature importance of DT Classifier\n",
        "plot_feature_importances_tree_class(df=df_cl, model=tree_cs)"
      ],
      "metadata": {
        "id": "lJEbP_9edcIS"
      },
      "execution_count": null,
      "outputs": []
    }
  ]
}